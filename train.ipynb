{
 "cells": [
  {
   "cell_type": "code",
   "execution_count": 1,
   "metadata": {},
   "outputs": [
    {
     "name": "stderr",
     "output_type": "stream",
     "text": [
      "c:\\Users\\tvtla\\miniconda3\\envs\\pytorch-gpu\\lib\\site-packages\\transformers\\configuration_utils.py:380: UserWarning: Passing `gradient_checkpointing` to a config initialization is deprecated and will be removed in v5 Transformers. Using `model.gradient_checkpointing_enable()` instead, or if you are using the `Trainer` API, pass `gradient_checkpointing=True` in your `TrainingArguments`.\n",
      "  warnings.warn(\n"
     ]
    }
   ],
   "source": [
    "import torch\n",
    "\n",
    "from dataset import iemocap\n",
    "from torch.utils.data import DataLoader, random_split\n",
    "from model import MultimodalClassificationHead\n",
    "from train import train"
   ]
  },
  {
   "cell_type": "code",
   "execution_count": 2,
   "metadata": {},
   "outputs": [],
   "source": [
    "# Hyperparameters\n",
    "MODEL_NAME = \"text_frozen\"\n",
    "BATCH_SIZE = 64\n",
    "LEARNING_RATE = 0.001\n",
    "EPOCHS = 5\n",
    "AUDIO_MODALITY = False\n",
    "TEXT_MODALITY = True\n",
    "VIDEO_MODALITY = False"
   ]
  },
  {
   "cell_type": "code",
   "execution_count": 3,
   "metadata": {},
   "outputs": [
    {
     "data": {
      "text/plain": [
       "'NVIDIA GeForce RTX 2070'"
      ]
     },
     "execution_count": 3,
     "metadata": {},
     "output_type": "execute_result"
    }
   ],
   "source": [
    "torch.cuda.get_device_name(0)"
   ]
  },
  {
   "cell_type": "code",
   "execution_count": 5,
   "metadata": {},
   "outputs": [],
   "source": [
    "import torchaudio\n",
    "from pathlib import Path\n",
    "import numpy as np\n",
    "\n",
    "total_mean = 0\n",
    "total_std = 0\n",
    "total_samples = 0\n",
    "\n",
    "for session in [1, 2, 3, 4, 5]:\n",
    "    audio_dir = f'E:/IEMOCAP_full_release/Session{session}/audio'\n",
    "    audio_paths = Path(audio_dir).glob(\"*/*.wav\")\n",
    "    for audio_path in audio_paths:\n",
    "        waveform, _ = torchaudio.load(audio_path)\n",
    "        waveform = waveform.numpy().squeeze()\n",
    "\n",
    "        mean = np.mean(waveform)\n",
    "        std = np.std(waveform)\n",
    "        samples = waveform.size\n",
    "\n",
    "        total_mean += mean * samples\n",
    "        total_std += std * samples\n",
    "        total_samples += samples\n",
    "\n",
    "global_mean = total_mean / total_samples\n",
    "global_std = total_std / total_samples"
   ]
  },
  {
   "cell_type": "code",
   "execution_count": 6,
   "metadata": {},
   "outputs": [
    {
     "name": "stdout",
     "output_type": "stream",
     "text": [
      "-1.6445859429616712e-05\n",
      "0.029528086858860082\n"
     ]
    }
   ],
   "source": [
    "print(global_mean)\n",
    "print(global_std)"
   ]
  },
  {
   "cell_type": "code",
   "execution_count": 4,
   "metadata": {},
   "outputs": [],
   "source": [
    "# precalculated to save time\n",
    "global_mean = -1.6445859429616712e-05\n",
    "global_std = 0.029528086858860082"
   ]
  },
  {
   "cell_type": "code",
   "execution_count": 5,
   "metadata": {},
   "outputs": [],
   "source": [
    "dataset = iemocap.IEMOCAP('E:/IEMOCAP_full_release', global_mean, global_std)\n",
    "\n",
    "total_samples = len(dataset)\n",
    "train_size = int(0.8 * total_samples)\n",
    "val_size = int(0.2 * total_samples)\n",
    "test_size = total_samples - train_size - val_size\n",
    "\n",
    "train_dataset, val_dataset, test_dataset = random_split(\n",
    "    dataset, [train_size, val_size, test_size]\n",
    ")"
   ]
  },
  {
   "cell_type": "code",
   "execution_count": 6,
   "metadata": {},
   "outputs": [
    {
     "name": "stderr",
     "output_type": "stream",
     "text": [
      "Some weights of RobertaModel were not initialized from the model checkpoint at roberta-base and are newly initialized: ['roberta.pooler.dense.weight', 'roberta.pooler.dense.bias']\n",
      "You should probably TRAIN this model on a down-stream task to be able to use it for predictions and inference.\n"
     ]
    }
   ],
   "source": [
    "model = MultimodalClassificationHead(audio_modality=AUDIO_MODALITY, \n",
    "                                     text_modality=TEXT_MODALITY, \n",
    "                                     video_modality=VIDEO_MODALITY)"
   ]
  },
  {
   "cell_type": "code",
   "execution_count": 7,
   "metadata": {},
   "outputs": [
    {
     "name": "stdout",
     "output_type": "stream",
     "text": [
      "modalities.text.weights True\n",
      "modalities.text.model.embeddings.word_embeddings.weight False\n",
      "modalities.text.model.embeddings.position_embeddings.weight False\n",
      "modalities.text.model.embeddings.token_type_embeddings.weight False\n",
      "modalities.text.model.embeddings.LayerNorm.weight False\n",
      "modalities.text.model.embeddings.LayerNorm.bias False\n",
      "modalities.text.model.encoder.layer.0.attention.self.query.weight False\n",
      "modalities.text.model.encoder.layer.0.attention.self.query.bias False\n",
      "modalities.text.model.encoder.layer.0.attention.self.key.weight False\n",
      "modalities.text.model.encoder.layer.0.attention.self.key.bias False\n",
      "modalities.text.model.encoder.layer.0.attention.self.value.weight False\n",
      "modalities.text.model.encoder.layer.0.attention.self.value.bias False\n",
      "modalities.text.model.encoder.layer.0.attention.output.dense.weight False\n",
      "modalities.text.model.encoder.layer.0.attention.output.dense.bias False\n",
      "modalities.text.model.encoder.layer.0.attention.output.LayerNorm.weight False\n",
      "modalities.text.model.encoder.layer.0.attention.output.LayerNorm.bias False\n",
      "modalities.text.model.encoder.layer.0.intermediate.dense.weight False\n",
      "modalities.text.model.encoder.layer.0.intermediate.dense.bias False\n",
      "modalities.text.model.encoder.layer.0.output.dense.weight False\n",
      "modalities.text.model.encoder.layer.0.output.dense.bias False\n",
      "modalities.text.model.encoder.layer.0.output.LayerNorm.weight False\n",
      "modalities.text.model.encoder.layer.0.output.LayerNorm.bias False\n",
      "modalities.text.model.encoder.layer.1.attention.self.query.weight False\n",
      "modalities.text.model.encoder.layer.1.attention.self.query.bias False\n",
      "modalities.text.model.encoder.layer.1.attention.self.key.weight False\n",
      "modalities.text.model.encoder.layer.1.attention.self.key.bias False\n",
      "modalities.text.model.encoder.layer.1.attention.self.value.weight False\n",
      "modalities.text.model.encoder.layer.1.attention.self.value.bias False\n",
      "modalities.text.model.encoder.layer.1.attention.output.dense.weight False\n",
      "modalities.text.model.encoder.layer.1.attention.output.dense.bias False\n",
      "modalities.text.model.encoder.layer.1.attention.output.LayerNorm.weight False\n",
      "modalities.text.model.encoder.layer.1.attention.output.LayerNorm.bias False\n",
      "modalities.text.model.encoder.layer.1.intermediate.dense.weight False\n",
      "modalities.text.model.encoder.layer.1.intermediate.dense.bias False\n",
      "modalities.text.model.encoder.layer.1.output.dense.weight False\n",
      "modalities.text.model.encoder.layer.1.output.dense.bias False\n",
      "modalities.text.model.encoder.layer.1.output.LayerNorm.weight False\n",
      "modalities.text.model.encoder.layer.1.output.LayerNorm.bias False\n",
      "modalities.text.model.encoder.layer.2.attention.self.query.weight False\n",
      "modalities.text.model.encoder.layer.2.attention.self.query.bias False\n",
      "modalities.text.model.encoder.layer.2.attention.self.key.weight False\n",
      "modalities.text.model.encoder.layer.2.attention.self.key.bias False\n",
      "modalities.text.model.encoder.layer.2.attention.self.value.weight False\n",
      "modalities.text.model.encoder.layer.2.attention.self.value.bias False\n",
      "modalities.text.model.encoder.layer.2.attention.output.dense.weight False\n",
      "modalities.text.model.encoder.layer.2.attention.output.dense.bias False\n",
      "modalities.text.model.encoder.layer.2.attention.output.LayerNorm.weight False\n",
      "modalities.text.model.encoder.layer.2.attention.output.LayerNorm.bias False\n",
      "modalities.text.model.encoder.layer.2.intermediate.dense.weight False\n",
      "modalities.text.model.encoder.layer.2.intermediate.dense.bias False\n",
      "modalities.text.model.encoder.layer.2.output.dense.weight False\n",
      "modalities.text.model.encoder.layer.2.output.dense.bias False\n",
      "modalities.text.model.encoder.layer.2.output.LayerNorm.weight False\n",
      "modalities.text.model.encoder.layer.2.output.LayerNorm.bias False\n",
      "modalities.text.model.encoder.layer.3.attention.self.query.weight False\n",
      "modalities.text.model.encoder.layer.3.attention.self.query.bias False\n",
      "modalities.text.model.encoder.layer.3.attention.self.key.weight False\n",
      "modalities.text.model.encoder.layer.3.attention.self.key.bias False\n",
      "modalities.text.model.encoder.layer.3.attention.self.value.weight False\n",
      "modalities.text.model.encoder.layer.3.attention.self.value.bias False\n",
      "modalities.text.model.encoder.layer.3.attention.output.dense.weight False\n",
      "modalities.text.model.encoder.layer.3.attention.output.dense.bias False\n",
      "modalities.text.model.encoder.layer.3.attention.output.LayerNorm.weight False\n",
      "modalities.text.model.encoder.layer.3.attention.output.LayerNorm.bias False\n",
      "modalities.text.model.encoder.layer.3.intermediate.dense.weight False\n",
      "modalities.text.model.encoder.layer.3.intermediate.dense.bias False\n",
      "modalities.text.model.encoder.layer.3.output.dense.weight False\n",
      "modalities.text.model.encoder.layer.3.output.dense.bias False\n",
      "modalities.text.model.encoder.layer.3.output.LayerNorm.weight False\n",
      "modalities.text.model.encoder.layer.3.output.LayerNorm.bias False\n",
      "modalities.text.model.encoder.layer.4.attention.self.query.weight False\n",
      "modalities.text.model.encoder.layer.4.attention.self.query.bias False\n",
      "modalities.text.model.encoder.layer.4.attention.self.key.weight False\n",
      "modalities.text.model.encoder.layer.4.attention.self.key.bias False\n",
      "modalities.text.model.encoder.layer.4.attention.self.value.weight False\n",
      "modalities.text.model.encoder.layer.4.attention.self.value.bias False\n",
      "modalities.text.model.encoder.layer.4.attention.output.dense.weight False\n",
      "modalities.text.model.encoder.layer.4.attention.output.dense.bias False\n",
      "modalities.text.model.encoder.layer.4.attention.output.LayerNorm.weight False\n",
      "modalities.text.model.encoder.layer.4.attention.output.LayerNorm.bias False\n",
      "modalities.text.model.encoder.layer.4.intermediate.dense.weight False\n",
      "modalities.text.model.encoder.layer.4.intermediate.dense.bias False\n",
      "modalities.text.model.encoder.layer.4.output.dense.weight False\n",
      "modalities.text.model.encoder.layer.4.output.dense.bias False\n",
      "modalities.text.model.encoder.layer.4.output.LayerNorm.weight False\n",
      "modalities.text.model.encoder.layer.4.output.LayerNorm.bias False\n",
      "modalities.text.model.encoder.layer.5.attention.self.query.weight False\n",
      "modalities.text.model.encoder.layer.5.attention.self.query.bias False\n",
      "modalities.text.model.encoder.layer.5.attention.self.key.weight False\n",
      "modalities.text.model.encoder.layer.5.attention.self.key.bias False\n",
      "modalities.text.model.encoder.layer.5.attention.self.value.weight False\n",
      "modalities.text.model.encoder.layer.5.attention.self.value.bias False\n",
      "modalities.text.model.encoder.layer.5.attention.output.dense.weight False\n",
      "modalities.text.model.encoder.layer.5.attention.output.dense.bias False\n",
      "modalities.text.model.encoder.layer.5.attention.output.LayerNorm.weight False\n",
      "modalities.text.model.encoder.layer.5.attention.output.LayerNorm.bias False\n",
      "modalities.text.model.encoder.layer.5.intermediate.dense.weight False\n",
      "modalities.text.model.encoder.layer.5.intermediate.dense.bias False\n",
      "modalities.text.model.encoder.layer.5.output.dense.weight False\n",
      "modalities.text.model.encoder.layer.5.output.dense.bias False\n",
      "modalities.text.model.encoder.layer.5.output.LayerNorm.weight False\n",
      "modalities.text.model.encoder.layer.5.output.LayerNorm.bias False\n",
      "modalities.text.model.encoder.layer.6.attention.self.query.weight False\n",
      "modalities.text.model.encoder.layer.6.attention.self.query.bias False\n",
      "modalities.text.model.encoder.layer.6.attention.self.key.weight False\n",
      "modalities.text.model.encoder.layer.6.attention.self.key.bias False\n",
      "modalities.text.model.encoder.layer.6.attention.self.value.weight False\n",
      "modalities.text.model.encoder.layer.6.attention.self.value.bias False\n",
      "modalities.text.model.encoder.layer.6.attention.output.dense.weight False\n",
      "modalities.text.model.encoder.layer.6.attention.output.dense.bias False\n",
      "modalities.text.model.encoder.layer.6.attention.output.LayerNorm.weight False\n",
      "modalities.text.model.encoder.layer.6.attention.output.LayerNorm.bias False\n",
      "modalities.text.model.encoder.layer.6.intermediate.dense.weight False\n",
      "modalities.text.model.encoder.layer.6.intermediate.dense.bias False\n",
      "modalities.text.model.encoder.layer.6.output.dense.weight False\n",
      "modalities.text.model.encoder.layer.6.output.dense.bias False\n",
      "modalities.text.model.encoder.layer.6.output.LayerNorm.weight False\n",
      "modalities.text.model.encoder.layer.6.output.LayerNorm.bias False\n",
      "modalities.text.model.encoder.layer.7.attention.self.query.weight False\n",
      "modalities.text.model.encoder.layer.7.attention.self.query.bias False\n",
      "modalities.text.model.encoder.layer.7.attention.self.key.weight False\n",
      "modalities.text.model.encoder.layer.7.attention.self.key.bias False\n",
      "modalities.text.model.encoder.layer.7.attention.self.value.weight False\n",
      "modalities.text.model.encoder.layer.7.attention.self.value.bias False\n",
      "modalities.text.model.encoder.layer.7.attention.output.dense.weight False\n",
      "modalities.text.model.encoder.layer.7.attention.output.dense.bias False\n",
      "modalities.text.model.encoder.layer.7.attention.output.LayerNorm.weight False\n",
      "modalities.text.model.encoder.layer.7.attention.output.LayerNorm.bias False\n",
      "modalities.text.model.encoder.layer.7.intermediate.dense.weight False\n",
      "modalities.text.model.encoder.layer.7.intermediate.dense.bias False\n",
      "modalities.text.model.encoder.layer.7.output.dense.weight False\n",
      "modalities.text.model.encoder.layer.7.output.dense.bias False\n",
      "modalities.text.model.encoder.layer.7.output.LayerNorm.weight False\n",
      "modalities.text.model.encoder.layer.7.output.LayerNorm.bias False\n",
      "modalities.text.model.encoder.layer.8.attention.self.query.weight False\n",
      "modalities.text.model.encoder.layer.8.attention.self.query.bias False\n",
      "modalities.text.model.encoder.layer.8.attention.self.key.weight False\n",
      "modalities.text.model.encoder.layer.8.attention.self.key.bias False\n",
      "modalities.text.model.encoder.layer.8.attention.self.value.weight False\n",
      "modalities.text.model.encoder.layer.8.attention.self.value.bias False\n",
      "modalities.text.model.encoder.layer.8.attention.output.dense.weight False\n",
      "modalities.text.model.encoder.layer.8.attention.output.dense.bias False\n",
      "modalities.text.model.encoder.layer.8.attention.output.LayerNorm.weight False\n",
      "modalities.text.model.encoder.layer.8.attention.output.LayerNorm.bias False\n",
      "modalities.text.model.encoder.layer.8.intermediate.dense.weight False\n",
      "modalities.text.model.encoder.layer.8.intermediate.dense.bias False\n",
      "modalities.text.model.encoder.layer.8.output.dense.weight False\n",
      "modalities.text.model.encoder.layer.8.output.dense.bias False\n",
      "modalities.text.model.encoder.layer.8.output.LayerNorm.weight False\n",
      "modalities.text.model.encoder.layer.8.output.LayerNorm.bias False\n",
      "modalities.text.model.encoder.layer.9.attention.self.query.weight False\n",
      "modalities.text.model.encoder.layer.9.attention.self.query.bias False\n",
      "modalities.text.model.encoder.layer.9.attention.self.key.weight False\n",
      "modalities.text.model.encoder.layer.9.attention.self.key.bias False\n",
      "modalities.text.model.encoder.layer.9.attention.self.value.weight False\n",
      "modalities.text.model.encoder.layer.9.attention.self.value.bias False\n",
      "modalities.text.model.encoder.layer.9.attention.output.dense.weight False\n",
      "modalities.text.model.encoder.layer.9.attention.output.dense.bias False\n",
      "modalities.text.model.encoder.layer.9.attention.output.LayerNorm.weight False\n",
      "modalities.text.model.encoder.layer.9.attention.output.LayerNorm.bias False\n",
      "modalities.text.model.encoder.layer.9.intermediate.dense.weight False\n",
      "modalities.text.model.encoder.layer.9.intermediate.dense.bias False\n",
      "modalities.text.model.encoder.layer.9.output.dense.weight False\n",
      "modalities.text.model.encoder.layer.9.output.dense.bias False\n",
      "modalities.text.model.encoder.layer.9.output.LayerNorm.weight False\n",
      "modalities.text.model.encoder.layer.9.output.LayerNorm.bias False\n",
      "modalities.text.model.encoder.layer.10.attention.self.query.weight False\n",
      "modalities.text.model.encoder.layer.10.attention.self.query.bias False\n",
      "modalities.text.model.encoder.layer.10.attention.self.key.weight False\n",
      "modalities.text.model.encoder.layer.10.attention.self.key.bias False\n",
      "modalities.text.model.encoder.layer.10.attention.self.value.weight False\n",
      "modalities.text.model.encoder.layer.10.attention.self.value.bias False\n",
      "modalities.text.model.encoder.layer.10.attention.output.dense.weight False\n",
      "modalities.text.model.encoder.layer.10.attention.output.dense.bias False\n",
      "modalities.text.model.encoder.layer.10.attention.output.LayerNorm.weight False\n",
      "modalities.text.model.encoder.layer.10.attention.output.LayerNorm.bias False\n",
      "modalities.text.model.encoder.layer.10.intermediate.dense.weight False\n",
      "modalities.text.model.encoder.layer.10.intermediate.dense.bias False\n",
      "modalities.text.model.encoder.layer.10.output.dense.weight False\n",
      "modalities.text.model.encoder.layer.10.output.dense.bias False\n",
      "modalities.text.model.encoder.layer.10.output.LayerNorm.weight False\n",
      "modalities.text.model.encoder.layer.10.output.LayerNorm.bias False\n",
      "modalities.text.model.encoder.layer.11.attention.self.query.weight False\n",
      "modalities.text.model.encoder.layer.11.attention.self.query.bias False\n",
      "modalities.text.model.encoder.layer.11.attention.self.key.weight False\n",
      "modalities.text.model.encoder.layer.11.attention.self.key.bias False\n",
      "modalities.text.model.encoder.layer.11.attention.self.value.weight False\n",
      "modalities.text.model.encoder.layer.11.attention.self.value.bias False\n",
      "modalities.text.model.encoder.layer.11.attention.output.dense.weight False\n",
      "modalities.text.model.encoder.layer.11.attention.output.dense.bias False\n",
      "modalities.text.model.encoder.layer.11.attention.output.LayerNorm.weight False\n",
      "modalities.text.model.encoder.layer.11.attention.output.LayerNorm.bias False\n",
      "modalities.text.model.encoder.layer.11.intermediate.dense.weight False\n",
      "modalities.text.model.encoder.layer.11.intermediate.dense.bias False\n",
      "modalities.text.model.encoder.layer.11.output.dense.weight False\n",
      "modalities.text.model.encoder.layer.11.output.dense.bias False\n",
      "modalities.text.model.encoder.layer.11.output.LayerNorm.weight False\n",
      "modalities.text.model.encoder.layer.11.output.LayerNorm.bias False\n",
      "modalities.text.model.pooler.dense.weight False\n",
      "modalities.text.model.pooler.dense.bias False\n",
      "modalities.text.feed_forward.0.weight True\n",
      "modalities.text.feed_forward.0.bias True\n",
      "modalities.text.feed_forward.1.weight True\n",
      "modalities.text.feed_forward.1.bias True\n",
      "modalities.text.feed_forward.4.weight True\n",
      "modalities.text.feed_forward.4.bias True\n",
      "modalities.text.feed_forward.5.weight True\n",
      "modalities.text.feed_forward.5.bias True\n",
      "modalities.text.classifier.weight True\n",
      "modalities.text.classifier.bias True\n"
     ]
    }
   ],
   "source": [
    "for name, param in model.named_parameters():\n",
    "    print(name, param.requires_grad)"
   ]
  },
  {
   "cell_type": "code",
   "execution_count": 8,
   "metadata": {},
   "outputs": [
    {
     "name": "stderr",
     "output_type": "stream",
     "text": [
      "  0%|          | 0/93 [00:00<?, ?it/s]c:\\Users\\tvtla\\miniconda3\\envs\\pytorch-gpu\\lib\\site-packages\\transformers\\feature_extraction_utils.py:149: UserWarning: Creating a tensor from a list of numpy.ndarrays is extremely slow. Please consider converting the list to a single numpy.ndarray with numpy.array() before converting to a tensor. (Triggered internally at C:\\cb\\pytorch_1000000000000\\work\\torch\\csrc\\utils\\tensor_new.cpp:264.)\n",
      "  return torch.tensor(value)\n",
      "100%|██████████| 93/93 [1:41:59<00:00, 65.80s/it]\n"
     ]
    },
    {
     "name": "stdout",
     "output_type": "stream",
     "text": [
      "Epoch [1/5] - Train Loss: 1.6256 - Val Loss: 1.5937 - Val Acc: 0.2408\n"
     ]
    },
    {
     "name": "stderr",
     "output_type": "stream",
     "text": [
      "100%|██████████| 93/93 [1:42:34<00:00, 66.18s/it]\n"
     ]
    },
    {
     "name": "stdout",
     "output_type": "stream",
     "text": [
      "Epoch [2/5] - Train Loss: 1.6110 - Val Loss: 1.6048 - Val Acc: 0.2408\n"
     ]
    },
    {
     "name": "stderr",
     "output_type": "stream",
     "text": [
      "100%|██████████| 93/93 [1:42:28<00:00, 66.11s/it]\n"
     ]
    },
    {
     "name": "stdout",
     "output_type": "stream",
     "text": [
      "Epoch [3/5] - Train Loss: 1.5966 - Val Loss: 1.5788 - Val Acc: 0.2673\n"
     ]
    },
    {
     "name": "stderr",
     "output_type": "stream",
     "text": [
      " 55%|█████▍    | 51/93 [56:40<46:33, 66.52s/it]  "
     ]
    }
   ],
   "source": [
    "train(\n",
    "    model_name=MODEL_NAME,\n",
    "    model=model,\n",
    "    train_data=train_dataset,\n",
    "    val_data=val_dataset,\n",
    "    epochs=EPOCHS,\n",
    "    batch_size=BATCH_SIZE,\n",
    "    learning_rate=LEARNING_RATE,\n",
    "    audio_modality=AUDIO_MODALITY, \n",
    "    text_modality=TEXT_MODALITY, \n",
    "    video_modality=VIDEO_MODALITY\n",
    ")"
   ]
  },
  {
   "cell_type": "code",
   "execution_count": null,
   "metadata": {},
   "outputs": [],
   "source": [
    "test_loader = DataLoader(test_dataset, batch_size=BATCH_SIZE)"
   ]
  }
 ],
 "metadata": {
  "kernelspec": {
   "display_name": "pytorch-gpu",
   "language": "python",
   "name": "python3"
  },
  "language_info": {
   "codemirror_mode": {
    "name": "ipython",
    "version": 3
   },
   "file_extension": ".py",
   "mimetype": "text/x-python",
   "name": "python",
   "nbconvert_exporter": "python",
   "pygments_lexer": "ipython3",
   "version": "3.10.13"
  }
 },
 "nbformat": 4,
 "nbformat_minor": 2
}
