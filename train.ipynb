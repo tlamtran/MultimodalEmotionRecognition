{
 "cells": [
  {
   "cell_type": "code",
   "execution_count": 1,
   "metadata": {},
   "outputs": [
    {
     "name": "stderr",
     "output_type": "stream",
     "text": [
      "c:\\Users\\tvtla\\miniconda3\\envs\\pytorch-gpu\\lib\\site-packages\\transformers\\configuration_utils.py:380: UserWarning: Passing `gradient_checkpointing` to a config initialization is deprecated and will be removed in v5 Transformers. Using `model.gradient_checkpointing_enable()` instead, or if you are using the `Trainer` API, pass `gradient_checkpointing=True` in your `TrainingArguments`.\n",
      "  warnings.warn(\n"
     ]
    }
   ],
   "source": [
    "import torch\n",
    "\n",
    "from dataset import iemocap\n",
    "from torch.utils.data import DataLoader, random_split\n",
    "from model import MultimodalClassificationHead\n",
    "from train import train"
   ]
  },
  {
   "cell_type": "code",
   "execution_count": 2,
   "metadata": {},
   "outputs": [],
   "source": [
    "# Hyperparameters\n",
    "MODEL_NAME = \"text_only\"\n",
    "BATCH_SIZE = 20\n",
    "LEARNING_RATE = 0.001\n",
    "EPOCHS = 5\n",
    "AUDIO_MODALITY = False\n",
    "TEXT_MODALITY = True\n",
    "VIDEO_MODALITY = False"
   ]
  },
  {
   "cell_type": "code",
   "execution_count": 3,
   "metadata": {},
   "outputs": [
    {
     "data": {
      "text/plain": [
       "'NVIDIA GeForce RTX 2070'"
      ]
     },
     "execution_count": 3,
     "metadata": {},
     "output_type": "execute_result"
    }
   ],
   "source": [
    "torch.cuda.get_device_name(0)"
   ]
  },
  {
   "cell_type": "code",
   "execution_count": 4,
   "metadata": {},
   "outputs": [],
   "source": [
    "dataset = iemocap.IEMOCAP('E:/IEMOCAP_full_release')\n",
    "\n",
    "total_samples = len(dataset)\n",
    "train_size = int(0.8 * total_samples)\n",
    "val_size = int(0.1 * total_samples)\n",
    "test_size = total_samples - train_size - val_size\n",
    "\n",
    "train_dataset, val_dataset, test_dataset = random_split(\n",
    "    dataset, [train_size, val_size, test_size]\n",
    ")"
   ]
  },
  {
   "cell_type": "code",
   "execution_count": 5,
   "metadata": {},
   "outputs": [
    {
     "name": "stderr",
     "output_type": "stream",
     "text": [
      "Some weights of RobertaModel were not initialized from the model checkpoint at roberta-base and are newly initialized: ['roberta.pooler.dense.weight', 'roberta.pooler.dense.bias']\n",
      "You should probably TRAIN this model on a down-stream task to be able to use it for predictions and inference.\n"
     ]
    }
   ],
   "source": [
    "model = MultimodalClassificationHead(audio_modality=AUDIO_MODALITY, \n",
    "                                     text_modality=TEXT_MODALITY, \n",
    "                                     video_modality=VIDEO_MODALITY)"
   ]
  },
  {
   "cell_type": "code",
   "execution_count": 6,
   "metadata": {},
   "outputs": [
    {
     "name": "stderr",
     "output_type": "stream",
     "text": [
      "  0%|          | 0/295 [00:00<?, ?it/s]c:\\Users\\tvtla\\miniconda3\\envs\\pytorch-gpu\\lib\\site-packages\\transformers\\feature_extraction_utils.py:149: UserWarning: Creating a tensor from a list of numpy.ndarrays is extremely slow. Please consider converting the list to a single numpy.ndarray with numpy.array() before converting to a tensor. (Triggered internally at C:\\cb\\pytorch_1000000000000\\work\\torch\\csrc\\utils\\tensor_new.cpp:264.)\n",
      "  return torch.tensor(value)\n",
      "100%|██████████| 295/295 [1:46:29<00:00, 21.66s/it]\n"
     ]
    },
    {
     "name": "stdout",
     "output_type": "stream",
     "text": [
      "Epoch [1/5] - Train Loss: 1.5986 - Val Loss: 1.5889 - Val Acc: 0.2497\n"
     ]
    },
    {
     "name": "stderr",
     "output_type": "stream",
     "text": [
      "100%|██████████| 295/295 [1:44:14<00:00, 21.20s/it]\n"
     ]
    },
    {
     "name": "stdout",
     "output_type": "stream",
     "text": [
      "Epoch [2/5] - Train Loss: 1.5885 - Val Loss: 1.5903 - Val Acc: 0.2497\n"
     ]
    },
    {
     "name": "stderr",
     "output_type": "stream",
     "text": [
      " 15%|█▍        | 43/295 [15:41<1:31:58, 21.90s/it]\n"
     ]
    },
    {
     "ename": "ValueError",
     "evalue": "Unable to create tensor, you should probably activate padding with 'padding=True' to have batched tensors with the same length.",
     "output_type": "error",
     "traceback": [
      "\u001b[1;31m---------------------------------------------------------------------------\u001b[0m",
      "\u001b[1;31mKeyboardInterrupt\u001b[0m                         Traceback (most recent call last)",
      "File \u001b[1;32mc:\\Users\\tvtla\\miniconda3\\envs\\pytorch-gpu\\lib\\site-packages\\transformers\\feature_extraction_utils.py:175\u001b[0m, in \u001b[0;36mBatchFeature.convert_to_tensors\u001b[1;34m(self, tensor_type)\u001b[0m\n\u001b[0;32m    174\u001b[0m \u001b[39mif\u001b[39;00m \u001b[39mnot\u001b[39;00m is_tensor(value):\n\u001b[1;32m--> 175\u001b[0m     tensor \u001b[39m=\u001b[39m as_tensor(value)\n\u001b[0;32m    177\u001b[0m     \u001b[39mself\u001b[39m[key] \u001b[39m=\u001b[39m tensor\n",
      "File \u001b[1;32mc:\\Users\\tvtla\\miniconda3\\envs\\pytorch-gpu\\lib\\site-packages\\transformers\\feature_extraction_utils.py:149\u001b[0m, in \u001b[0;36mBatchFeature.convert_to_tensors.<locals>.as_tensor\u001b[1;34m(value)\u001b[0m\n\u001b[0;32m    148\u001b[0m     value \u001b[39m=\u001b[39m np\u001b[39m.\u001b[39marray(value)\n\u001b[1;32m--> 149\u001b[0m \u001b[39mreturn\u001b[39;00m torch\u001b[39m.\u001b[39;49mtensor(value)\n",
      "\u001b[1;31mKeyboardInterrupt\u001b[0m: ",
      "\nDuring handling of the above exception, another exception occurred:\n",
      "\u001b[1;31mValueError\u001b[0m                                Traceback (most recent call last)",
      "\u001b[1;32mc:\\Users\\tvtla\\OneDrive\\Työpöytä\\repo\\MultimodalEmotionRecognition\\train.ipynb Cell 6\u001b[0m line \u001b[0;36m1\n\u001b[1;32m----> <a href='vscode-notebook-cell:/c%3A/Users/tvtla/OneDrive/Ty%C3%B6p%C3%B6yt%C3%A4/repo/MultimodalEmotionRecognition/train.ipynb#W5sZmlsZQ%3D%3D?line=0'>1</a>\u001b[0m train(\n\u001b[0;32m      <a href='vscode-notebook-cell:/c%3A/Users/tvtla/OneDrive/Ty%C3%B6p%C3%B6yt%C3%A4/repo/MultimodalEmotionRecognition/train.ipynb#W5sZmlsZQ%3D%3D?line=1'>2</a>\u001b[0m     model_name\u001b[39m=\u001b[39;49mMODEL_NAME,\n\u001b[0;32m      <a href='vscode-notebook-cell:/c%3A/Users/tvtla/OneDrive/Ty%C3%B6p%C3%B6yt%C3%A4/repo/MultimodalEmotionRecognition/train.ipynb#W5sZmlsZQ%3D%3D?line=2'>3</a>\u001b[0m     model\u001b[39m=\u001b[39;49mmodel,\n\u001b[0;32m      <a href='vscode-notebook-cell:/c%3A/Users/tvtla/OneDrive/Ty%C3%B6p%C3%B6yt%C3%A4/repo/MultimodalEmotionRecognition/train.ipynb#W5sZmlsZQ%3D%3D?line=3'>4</a>\u001b[0m     train_data\u001b[39m=\u001b[39;49mtrain_dataset,\n\u001b[0;32m      <a href='vscode-notebook-cell:/c%3A/Users/tvtla/OneDrive/Ty%C3%B6p%C3%B6yt%C3%A4/repo/MultimodalEmotionRecognition/train.ipynb#W5sZmlsZQ%3D%3D?line=4'>5</a>\u001b[0m     val_data\u001b[39m=\u001b[39;49mval_dataset,\n\u001b[0;32m      <a href='vscode-notebook-cell:/c%3A/Users/tvtla/OneDrive/Ty%C3%B6p%C3%B6yt%C3%A4/repo/MultimodalEmotionRecognition/train.ipynb#W5sZmlsZQ%3D%3D?line=5'>6</a>\u001b[0m     epochs\u001b[39m=\u001b[39;49mEPOCHS,\n\u001b[0;32m      <a href='vscode-notebook-cell:/c%3A/Users/tvtla/OneDrive/Ty%C3%B6p%C3%B6yt%C3%A4/repo/MultimodalEmotionRecognition/train.ipynb#W5sZmlsZQ%3D%3D?line=6'>7</a>\u001b[0m     batch_size\u001b[39m=\u001b[39;49mBATCH_SIZE,\n\u001b[0;32m      <a href='vscode-notebook-cell:/c%3A/Users/tvtla/OneDrive/Ty%C3%B6p%C3%B6yt%C3%A4/repo/MultimodalEmotionRecognition/train.ipynb#W5sZmlsZQ%3D%3D?line=7'>8</a>\u001b[0m     learning_rate\u001b[39m=\u001b[39;49mLEARNING_RATE,\n\u001b[0;32m      <a href='vscode-notebook-cell:/c%3A/Users/tvtla/OneDrive/Ty%C3%B6p%C3%B6yt%C3%A4/repo/MultimodalEmotionRecognition/train.ipynb#W5sZmlsZQ%3D%3D?line=8'>9</a>\u001b[0m     audio_modality\u001b[39m=\u001b[39;49mAUDIO_MODALITY, \n\u001b[0;32m     <a href='vscode-notebook-cell:/c%3A/Users/tvtla/OneDrive/Ty%C3%B6p%C3%B6yt%C3%A4/repo/MultimodalEmotionRecognition/train.ipynb#W5sZmlsZQ%3D%3D?line=9'>10</a>\u001b[0m     text_modality\u001b[39m=\u001b[39;49mTEXT_MODALITY, \n\u001b[0;32m     <a href='vscode-notebook-cell:/c%3A/Users/tvtla/OneDrive/Ty%C3%B6p%C3%B6yt%C3%A4/repo/MultimodalEmotionRecognition/train.ipynb#W5sZmlsZQ%3D%3D?line=10'>11</a>\u001b[0m     video_modality\u001b[39m=\u001b[39;49mVIDEO_MODALITY\n\u001b[0;32m     <a href='vscode-notebook-cell:/c%3A/Users/tvtla/OneDrive/Ty%C3%B6p%C3%B6yt%C3%A4/repo/MultimodalEmotionRecognition/train.ipynb#W5sZmlsZQ%3D%3D?line=11'>12</a>\u001b[0m )\n",
      "File \u001b[1;32mc:\\Users\\tvtla\\OneDrive\\Työpöytä\\repo\\MultimodalEmotionRecognition\\train.py:39\u001b[0m, in \u001b[0;36mtrain\u001b[1;34m(model_name, model, train_data, val_data, epochs, batch_size, learning_rate, audio_modality, text_modality, video_modality)\u001b[0m\n\u001b[0;32m     36\u001b[0m model\u001b[39m.\u001b[39mtrain()\n\u001b[0;32m     38\u001b[0m total_train_loss \u001b[39m=\u001b[39m \u001b[39m0\u001b[39m\n\u001b[1;32m---> 39\u001b[0m \u001b[39mfor\u001b[39;00m audio_input, text_input, video_input, targets \u001b[39min\u001b[39;00m tqdm(train_loader):\n\u001b[0;32m     40\u001b[0m     \u001b[39mif\u001b[39;00m audio_modality:\n\u001b[0;32m     41\u001b[0m         audio_input \u001b[39m=\u001b[39m audio_input\u001b[39m.\u001b[39mto(device)\n",
      "File \u001b[1;32mc:\\Users\\tvtla\\miniconda3\\envs\\pytorch-gpu\\lib\\site-packages\\tqdm\\std.py:1182\u001b[0m, in \u001b[0;36mtqdm.__iter__\u001b[1;34m(self)\u001b[0m\n\u001b[0;32m   1179\u001b[0m time \u001b[39m=\u001b[39m \u001b[39mself\u001b[39m\u001b[39m.\u001b[39m_time\n\u001b[0;32m   1181\u001b[0m \u001b[39mtry\u001b[39;00m:\n\u001b[1;32m-> 1182\u001b[0m     \u001b[39mfor\u001b[39;00m obj \u001b[39min\u001b[39;00m iterable:\n\u001b[0;32m   1183\u001b[0m         \u001b[39myield\u001b[39;00m obj\n\u001b[0;32m   1184\u001b[0m         \u001b[39m# Update and possibly print the progressbar.\u001b[39;00m\n\u001b[0;32m   1185\u001b[0m         \u001b[39m# Note: does not call self.update(1) for speed optimisation.\u001b[39;00m\n",
      "File \u001b[1;32mc:\\Users\\tvtla\\miniconda3\\envs\\pytorch-gpu\\lib\\site-packages\\torch\\utils\\data\\dataloader.py:630\u001b[0m, in \u001b[0;36m_BaseDataLoaderIter.__next__\u001b[1;34m(self)\u001b[0m\n\u001b[0;32m    627\u001b[0m \u001b[39mif\u001b[39;00m \u001b[39mself\u001b[39m\u001b[39m.\u001b[39m_sampler_iter \u001b[39mis\u001b[39;00m \u001b[39mNone\u001b[39;00m:\n\u001b[0;32m    628\u001b[0m     \u001b[39m# TODO(https://github.com/pytorch/pytorch/issues/76750)\u001b[39;00m\n\u001b[0;32m    629\u001b[0m     \u001b[39mself\u001b[39m\u001b[39m.\u001b[39m_reset()  \u001b[39m# type: ignore[call-arg]\u001b[39;00m\n\u001b[1;32m--> 630\u001b[0m data \u001b[39m=\u001b[39m \u001b[39mself\u001b[39;49m\u001b[39m.\u001b[39;49m_next_data()\n\u001b[0;32m    631\u001b[0m \u001b[39mself\u001b[39m\u001b[39m.\u001b[39m_num_yielded \u001b[39m+\u001b[39m\u001b[39m=\u001b[39m \u001b[39m1\u001b[39m\n\u001b[0;32m    632\u001b[0m \u001b[39mif\u001b[39;00m \u001b[39mself\u001b[39m\u001b[39m.\u001b[39m_dataset_kind \u001b[39m==\u001b[39m _DatasetKind\u001b[39m.\u001b[39mIterable \u001b[39mand\u001b[39;00m \\\n\u001b[0;32m    633\u001b[0m         \u001b[39mself\u001b[39m\u001b[39m.\u001b[39m_IterableDataset_len_called \u001b[39mis\u001b[39;00m \u001b[39mnot\u001b[39;00m \u001b[39mNone\u001b[39;00m \u001b[39mand\u001b[39;00m \\\n\u001b[0;32m    634\u001b[0m         \u001b[39mself\u001b[39m\u001b[39m.\u001b[39m_num_yielded \u001b[39m>\u001b[39m \u001b[39mself\u001b[39m\u001b[39m.\u001b[39m_IterableDataset_len_called:\n",
      "File \u001b[1;32mc:\\Users\\tvtla\\miniconda3\\envs\\pytorch-gpu\\lib\\site-packages\\torch\\utils\\data\\dataloader.py:674\u001b[0m, in \u001b[0;36m_SingleProcessDataLoaderIter._next_data\u001b[1;34m(self)\u001b[0m\n\u001b[0;32m    672\u001b[0m \u001b[39mdef\u001b[39;00m \u001b[39m_next_data\u001b[39m(\u001b[39mself\u001b[39m):\n\u001b[0;32m    673\u001b[0m     index \u001b[39m=\u001b[39m \u001b[39mself\u001b[39m\u001b[39m.\u001b[39m_next_index()  \u001b[39m# may raise StopIteration\u001b[39;00m\n\u001b[1;32m--> 674\u001b[0m     data \u001b[39m=\u001b[39m \u001b[39mself\u001b[39;49m\u001b[39m.\u001b[39;49m_dataset_fetcher\u001b[39m.\u001b[39;49mfetch(index)  \u001b[39m# may raise StopIteration\u001b[39;00m\n\u001b[0;32m    675\u001b[0m     \u001b[39mif\u001b[39;00m \u001b[39mself\u001b[39m\u001b[39m.\u001b[39m_pin_memory:\n\u001b[0;32m    676\u001b[0m         data \u001b[39m=\u001b[39m _utils\u001b[39m.\u001b[39mpin_memory\u001b[39m.\u001b[39mpin_memory(data, \u001b[39mself\u001b[39m\u001b[39m.\u001b[39m_pin_memory_device)\n",
      "File \u001b[1;32mc:\\Users\\tvtla\\miniconda3\\envs\\pytorch-gpu\\lib\\site-packages\\torch\\utils\\data\\_utils\\fetch.py:54\u001b[0m, in \u001b[0;36m_MapDatasetFetcher.fetch\u001b[1;34m(self, possibly_batched_index)\u001b[0m\n\u001b[0;32m     52\u001b[0m \u001b[39melse\u001b[39;00m:\n\u001b[0;32m     53\u001b[0m     data \u001b[39m=\u001b[39m \u001b[39mself\u001b[39m\u001b[39m.\u001b[39mdataset[possibly_batched_index]\n\u001b[1;32m---> 54\u001b[0m \u001b[39mreturn\u001b[39;00m \u001b[39mself\u001b[39;49m\u001b[39m.\u001b[39;49mcollate_fn(data)\n",
      "File \u001b[1;32mc:\\Users\\tvtla\\OneDrive\\Työpöytä\\repo\\MultimodalEmotionRecognition\\train.py:19\u001b[0m, in \u001b[0;36mcollate_fn\u001b[1;34m(batch)\u001b[0m\n\u001b[0;32m     17\u001b[0m audio_inputs \u001b[39m=\u001b[39m audio_processor(audio_inputs, return_tensors\u001b[39m=\u001b[39m\u001b[39m'\u001b[39m\u001b[39mpt\u001b[39m\u001b[39m'\u001b[39m, sampling_rate\u001b[39m=\u001b[39m\u001b[39m16000\u001b[39m, padding\u001b[39m=\u001b[39m\u001b[39mTrue\u001b[39;00m)\n\u001b[0;32m     18\u001b[0m text_inputs \u001b[39m=\u001b[39m text_tokenizer(text_inputs, return_tensors\u001b[39m=\u001b[39m\u001b[39m'\u001b[39m\u001b[39mpt\u001b[39m\u001b[39m'\u001b[39m, padding\u001b[39m=\u001b[39m\u001b[39mTrue\u001b[39;00m)\n\u001b[1;32m---> 19\u001b[0m video_inputs \u001b[39m=\u001b[39m image_processor(video_inputs, return_tensors\u001b[39m=\u001b[39;49m\u001b[39m\"\u001b[39;49m\u001b[39mpt\u001b[39;49m\u001b[39m\"\u001b[39;49m, padding\u001b[39m=\u001b[39;49m\u001b[39mTrue\u001b[39;49;00m)\n\u001b[0;32m     21\u001b[0m \u001b[39mreturn\u001b[39;00m audio_inputs, text_inputs, video_inputs, torch\u001b[39m.\u001b[39mtensor(labels)\n",
      "File \u001b[1;32mc:\\Users\\tvtla\\miniconda3\\envs\\pytorch-gpu\\lib\\site-packages\\transformers\\image_processing_utils.py:494\u001b[0m, in \u001b[0;36mBaseImageProcessor.__call__\u001b[1;34m(self, images, **kwargs)\u001b[0m\n\u001b[0;32m    492\u001b[0m \u001b[39mdef\u001b[39;00m \u001b[39m__call__\u001b[39m(\u001b[39mself\u001b[39m, images, \u001b[39m*\u001b[39m\u001b[39m*\u001b[39mkwargs) \u001b[39m-\u001b[39m\u001b[39m>\u001b[39m BatchFeature:\n\u001b[0;32m    493\u001b[0m \u001b[39m    \u001b[39m\u001b[39m\"\"\"Preprocess an image or a batch of images.\"\"\"\u001b[39;00m\n\u001b[1;32m--> 494\u001b[0m     \u001b[39mreturn\u001b[39;00m \u001b[39mself\u001b[39m\u001b[39m.\u001b[39mpreprocess(images, \u001b[39m*\u001b[39m\u001b[39m*\u001b[39mkwargs)\n",
      "File \u001b[1;32mc:\\Users\\tvtla\\miniconda3\\envs\\pytorch-gpu\\lib\\site-packages\\transformers\\models\\vivit\\image_processing_vivit.py:404\u001b[0m, in \u001b[0;36mVivitImageProcessor.preprocess\u001b[1;34m(self, videos, do_resize, size, resample, do_center_crop, crop_size, do_rescale, rescale_factor, offset, do_normalize, image_mean, image_std, return_tensors, data_format, **kwargs)\u001b[0m\n\u001b[0;32m    381\u001b[0m videos \u001b[39m=\u001b[39m [\n\u001b[0;32m    382\u001b[0m     [\n\u001b[0;32m    383\u001b[0m         \u001b[39mself\u001b[39m\u001b[39m.\u001b[39m_preprocess_image(\n\u001b[1;32m   (...)\u001b[0m\n\u001b[0;32m    400\u001b[0m     \u001b[39mfor\u001b[39;00m video \u001b[39min\u001b[39;00m videos\n\u001b[0;32m    401\u001b[0m ]\n\u001b[0;32m    403\u001b[0m data \u001b[39m=\u001b[39m {\u001b[39m\"\u001b[39m\u001b[39mpixel_values\u001b[39m\u001b[39m\"\u001b[39m: videos}\n\u001b[1;32m--> 404\u001b[0m \u001b[39mreturn\u001b[39;00m BatchFeature(data\u001b[39m=\u001b[39;49mdata, tensor_type\u001b[39m=\u001b[39;49mreturn_tensors)\n",
      "File \u001b[1;32mc:\\Users\\tvtla\\miniconda3\\envs\\pytorch-gpu\\lib\\site-packages\\transformers\\feature_extraction_utils.py:78\u001b[0m, in \u001b[0;36mBatchFeature.__init__\u001b[1;34m(self, data, tensor_type)\u001b[0m\n\u001b[0;32m     76\u001b[0m \u001b[39mdef\u001b[39;00m \u001b[39m__init__\u001b[39m(\u001b[39mself\u001b[39m, data: Optional[Dict[\u001b[39mstr\u001b[39m, Any]] \u001b[39m=\u001b[39m \u001b[39mNone\u001b[39;00m, tensor_type: Union[\u001b[39mNone\u001b[39;00m, \u001b[39mstr\u001b[39m, TensorType] \u001b[39m=\u001b[39m \u001b[39mNone\u001b[39;00m):\n\u001b[0;32m     77\u001b[0m     \u001b[39msuper\u001b[39m()\u001b[39m.\u001b[39m\u001b[39m__init__\u001b[39m(data)\n\u001b[1;32m---> 78\u001b[0m     \u001b[39mself\u001b[39;49m\u001b[39m.\u001b[39;49mconvert_to_tensors(tensor_type\u001b[39m=\u001b[39;49mtensor_type)\n",
      "File \u001b[1;32mc:\\Users\\tvtla\\miniconda3\\envs\\pytorch-gpu\\lib\\site-packages\\transformers\\feature_extraction_utils.py:181\u001b[0m, in \u001b[0;36mBatchFeature.convert_to_tensors\u001b[1;34m(self, tensor_type)\u001b[0m\n\u001b[0;32m    179\u001b[0m         \u001b[39mif\u001b[39;00m key \u001b[39m==\u001b[39m \u001b[39m\"\u001b[39m\u001b[39moverflowing_values\u001b[39m\u001b[39m\"\u001b[39m:\n\u001b[0;32m    180\u001b[0m             \u001b[39mraise\u001b[39;00m \u001b[39mValueError\u001b[39;00m(\u001b[39m\"\u001b[39m\u001b[39mUnable to create tensor returning overflowing values of different lengths. \u001b[39m\u001b[39m\"\u001b[39m)\n\u001b[1;32m--> 181\u001b[0m         \u001b[39mraise\u001b[39;00m \u001b[39mValueError\u001b[39;00m(\n\u001b[0;32m    182\u001b[0m             \u001b[39m\"\u001b[39m\u001b[39mUnable to create tensor, you should probably activate padding \u001b[39m\u001b[39m\"\u001b[39m\n\u001b[0;32m    183\u001b[0m             \u001b[39m\"\u001b[39m\u001b[39mwith \u001b[39m\u001b[39m'\u001b[39m\u001b[39mpadding=True\u001b[39m\u001b[39m'\u001b[39m\u001b[39m to have batched tensors with the same length.\u001b[39m\u001b[39m\"\u001b[39m\n\u001b[0;32m    184\u001b[0m         )\n\u001b[0;32m    186\u001b[0m \u001b[39mreturn\u001b[39;00m \u001b[39mself\u001b[39m\n",
      "\u001b[1;31mValueError\u001b[0m: Unable to create tensor, you should probably activate padding with 'padding=True' to have batched tensors with the same length."
     ]
    }
   ],
   "source": [
    "train(\n",
    "    model_name=MODEL_NAME,\n",
    "    model=model,\n",
    "    train_data=train_dataset,\n",
    "    val_data=val_dataset,\n",
    "    epochs=EPOCHS,\n",
    "    batch_size=BATCH_SIZE,\n",
    "    learning_rate=LEARNING_RATE,\n",
    "    audio_modality=AUDIO_MODALITY, \n",
    "    text_modality=TEXT_MODALITY, \n",
    "    video_modality=VIDEO_MODALITY\n",
    ")"
   ]
  },
  {
   "cell_type": "code",
   "execution_count": null,
   "metadata": {},
   "outputs": [],
   "source": [
    "test_loader = DataLoader(test_dataset, batch_size=BATCH_SIZE)"
   ]
  }
 ],
 "metadata": {
  "kernelspec": {
   "display_name": "pytorch-gpu",
   "language": "python",
   "name": "python3"
  },
  "language_info": {
   "codemirror_mode": {
    "name": "ipython",
    "version": 3
   },
   "file_extension": ".py",
   "mimetype": "text/x-python",
   "name": "python",
   "nbconvert_exporter": "python",
   "pygments_lexer": "ipython3",
   "version": "3.10.13"
  }
 },
 "nbformat": 4,
 "nbformat_minor": 2
}
